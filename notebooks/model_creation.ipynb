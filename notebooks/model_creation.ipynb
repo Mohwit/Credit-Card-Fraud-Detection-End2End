{
 "cells": [
  {
   "cell_type": "markdown",
   "metadata": {},
   "source": [
    "# Model Creation and Training"
   ]
  },
  {
   "attachments": {},
   "cell_type": "markdown",
   "metadata": {},
   "source": [
    "## Importing the necessary modules"
   ]
  },
  {
   "cell_type": "code",
   "execution_count": 1,
   "metadata": {},
   "outputs": [],
   "source": [
    "## basic imports\n",
    "import pandas as pd\n",
    "import numpy as np\n",
    "import matplotlib.pyplot as plt\n",
    "import seaborn as sns\n",
    "\n",
    "## Model imports\n",
    "from sklearn.linear_model import LogisticRegression\n",
    "from sklearn.neighbors import KNeighborsClassifier\n",
    "from sklearn.ensemble import RandomForestClassifier, AdaBoostClassifier\n",
    "from sklearn.tree import DecisionTreeClassifier\n",
    "from catboost import CatBoostClassifier\n",
    "from xgboost import XGBClassifier\n",
    "from sklearn.ensemble import GradientBoostingClassifier\n",
    "from sklearn.naive_bayes import GaussianNB\n",
    "from sklearn.svm import SVC\n",
    "\n",
    "from sklearn.model_selection import train_test_split\n",
    "from sklearn.metrics import make_scorer, precision_score, recall_score, f1_score, roc_auc_score\n",
    "from sklearn.model_selection import GridSearchCV\n",
    "\n",
    "## Ignore warnings\n",
    "import warnings\n",
    "warnings.filterwarnings('ignore')"
   ]
  },
  {
   "attachments": {},
   "cell_type": "markdown",
   "metadata": {},
   "source": [
    "### Import the CSV Data as Pandas DataFrame"
   ]
  },
  {
   "cell_type": "code",
   "execution_count": 2,
   "metadata": {},
   "outputs": [],
   "source": [
    "df = pd.read_csv(\"../Data/final_train.csv\")"
   ]
  },
  {
   "attachments": {},
   "cell_type": "markdown",
   "metadata": {},
   "source": [
    "### Show top 5 rows"
   ]
  },
  {
   "cell_type": "code",
   "execution_count": 3,
   "metadata": {},
   "outputs": [
    {
     "data": {
      "text/html": [
       "<div>\n",
       "<style scoped>\n",
       "    .dataframe tbody tr th:only-of-type {\n",
       "        vertical-align: middle;\n",
       "    }\n",
       "\n",
       "    .dataframe tbody tr th {\n",
       "        vertical-align: top;\n",
       "    }\n",
       "\n",
       "    .dataframe thead th {\n",
       "        text-align: right;\n",
       "    }\n",
       "</style>\n",
       "<table border=\"1\" class=\"dataframe\">\n",
       "  <thead>\n",
       "    <tr style=\"text-align: right;\">\n",
       "      <th></th>\n",
       "      <th>TRANSACTION_ID</th>\n",
       "      <th>CUSTOMER_ID</th>\n",
       "      <th>TERMINAL_ID</th>\n",
       "      <th>TX_AMOUNT</th>\n",
       "      <th>TX_FRAUD</th>\n",
       "      <th>x_customer_id</th>\n",
       "      <th>y_customer_id</th>\n",
       "      <th>mean_amount</th>\n",
       "      <th>std_amount</th>\n",
       "      <th>mean_nb_tx_per_day</th>\n",
       "      <th>nb_terminals</th>\n",
       "      <th>x_terminal_id</th>\n",
       "      <th>y_terminal_id</th>\n",
       "      <th>date</th>\n",
       "      <th>month</th>\n",
       "      <th>day</th>\n",
       "      <th>hour</th>\n",
       "      <th>dayofweek</th>\n",
       "    </tr>\n",
       "  </thead>\n",
       "  <tbody>\n",
       "    <tr>\n",
       "      <th>0</th>\n",
       "      <td>59383</td>\n",
       "      <td>323</td>\n",
       "      <td>217</td>\n",
       "      <td>4.60</td>\n",
       "      <td>0</td>\n",
       "      <td>84.515409</td>\n",
       "      <td>38.276422</td>\n",
       "      <td>7.353061</td>\n",
       "      <td>3.676530</td>\n",
       "      <td>3.324124</td>\n",
       "      <td>19</td>\n",
       "      <td>80.316334</td>\n",
       "      <td>40.239252</td>\n",
       "      <td>2021-08-01</td>\n",
       "      <td>8</td>\n",
       "      <td>1</td>\n",
       "      <td>0</td>\n",
       "      <td>Sunday</td>\n",
       "    </tr>\n",
       "    <tr>\n",
       "      <th>1</th>\n",
       "      <td>59384</td>\n",
       "      <td>6</td>\n",
       "      <td>429</td>\n",
       "      <td>8.61</td>\n",
       "      <td>0</td>\n",
       "      <td>11.827443</td>\n",
       "      <td>63.992102</td>\n",
       "      <td>18.618562</td>\n",
       "      <td>9.309281</td>\n",
       "      <td>3.778676</td>\n",
       "      <td>16</td>\n",
       "      <td>15.172487</td>\n",
       "      <td>63.912685</td>\n",
       "      <td>2021-08-01</td>\n",
       "      <td>8</td>\n",
       "      <td>1</td>\n",
       "      <td>0</td>\n",
       "      <td>Sunday</td>\n",
       "    </tr>\n",
       "    <tr>\n",
       "      <th>2</th>\n",
       "      <td>59385</td>\n",
       "      <td>714</td>\n",
       "      <td>1011</td>\n",
       "      <td>64.00</td>\n",
       "      <td>0</td>\n",
       "      <td>75.221083</td>\n",
       "      <td>94.991427</td>\n",
       "      <td>82.620413</td>\n",
       "      <td>41.310207</td>\n",
       "      <td>3.723765</td>\n",
       "      <td>13</td>\n",
       "      <td>74.196424</td>\n",
       "      <td>98.288079</td>\n",
       "      <td>2021-08-01</td>\n",
       "      <td>8</td>\n",
       "      <td>1</td>\n",
       "      <td>0</td>\n",
       "      <td>Sunday</td>\n",
       "    </tr>\n",
       "    <tr>\n",
       "      <th>3</th>\n",
       "      <td>59386</td>\n",
       "      <td>266</td>\n",
       "      <td>1969</td>\n",
       "      <td>12.72</td>\n",
       "      <td>0</td>\n",
       "      <td>51.122179</td>\n",
       "      <td>8.329098</td>\n",
       "      <td>9.852171</td>\n",
       "      <td>4.926085</td>\n",
       "      <td>3.862067</td>\n",
       "      <td>15</td>\n",
       "      <td>51.950635</td>\n",
       "      <td>6.563484</td>\n",
       "      <td>2021-08-01</td>\n",
       "      <td>8</td>\n",
       "      <td>1</td>\n",
       "      <td>0</td>\n",
       "      <td>Sunday</td>\n",
       "    </tr>\n",
       "    <tr>\n",
       "      <th>4</th>\n",
       "      <td>59387</td>\n",
       "      <td>890</td>\n",
       "      <td>1482</td>\n",
       "      <td>98.88</td>\n",
       "      <td>0</td>\n",
       "      <td>62.777887</td>\n",
       "      <td>31.405270</td>\n",
       "      <td>83.660035</td>\n",
       "      <td>41.830018</td>\n",
       "      <td>3.128315</td>\n",
       "      <td>20</td>\n",
       "      <td>62.417972</td>\n",
       "      <td>26.483666</td>\n",
       "      <td>2021-08-01</td>\n",
       "      <td>8</td>\n",
       "      <td>1</td>\n",
       "      <td>0</td>\n",
       "      <td>Sunday</td>\n",
       "    </tr>\n",
       "  </tbody>\n",
       "</table>\n",
       "</div>"
      ],
      "text/plain": [
       "   TRANSACTION_ID  CUSTOMER_ID  TERMINAL_ID  TX_AMOUNT  TX_FRAUD   \n",
       "0           59383          323          217       4.60         0  \\\n",
       "1           59384            6          429       8.61         0   \n",
       "2           59385          714         1011      64.00         0   \n",
       "3           59386          266         1969      12.72         0   \n",
       "4           59387          890         1482      98.88         0   \n",
       "\n",
       "   x_customer_id  y_customer_id  mean_amount  std_amount  mean_nb_tx_per_day   \n",
       "0      84.515409      38.276422     7.353061    3.676530            3.324124  \\\n",
       "1      11.827443      63.992102    18.618562    9.309281            3.778676   \n",
       "2      75.221083      94.991427    82.620413   41.310207            3.723765   \n",
       "3      51.122179       8.329098     9.852171    4.926085            3.862067   \n",
       "4      62.777887      31.405270    83.660035   41.830018            3.128315   \n",
       "\n",
       "   nb_terminals  x_terminal_id  y_terminal_id        date  month  day  hour   \n",
       "0            19      80.316334      40.239252  2021-08-01      8    1     0  \\\n",
       "1            16      15.172487      63.912685  2021-08-01      8    1     0   \n",
       "2            13      74.196424      98.288079  2021-08-01      8    1     0   \n",
       "3            15      51.950635       6.563484  2021-08-01      8    1     0   \n",
       "4            20      62.417972      26.483666  2021-08-01      8    1     0   \n",
       "\n",
       "  dayofweek  \n",
       "0    Sunday  \n",
       "1    Sunday  \n",
       "2    Sunday  \n",
       "3    Sunday  \n",
       "4    Sunday  "
      ]
     },
     "execution_count": 3,
     "metadata": {},
     "output_type": "execute_result"
    }
   ],
   "source": [
    "df.head()"
   ]
  },
  {
   "cell_type": "markdown",
   "metadata": {},
   "source": [
    "## Treating outliers"
   ]
  },
  {
   "attachments": {},
   "cell_type": "markdown",
   "metadata": {},
   "source": [
    "We know there are outliers in TX_AMOUNT columns, so we need to treat them"
   ]
  },
  {
   "cell_type": "code",
   "execution_count": 4,
   "metadata": {},
   "outputs": [
    {
     "data": {
      "text/plain": [
       "<Axes: xlabel='TX_AMOUNT'>"
      ]
     },
     "execution_count": 4,
     "metadata": {},
     "output_type": "execute_result"
    },
    {
     "data": {
      "image/png": "[encoded data removed]",
      "text/plain": [
       "<Figure size 640x480 with 1 Axes>"
      ]
     },
     "metadata": {},
     "output_type": "display_data"
    }
   ],
   "source": [
    "sns.boxplot(data = df, x=df['TX_AMOUNT'])"
   ]
  },
  {
   "cell_type": "markdown",
   "metadata": {},
   "source": [
    "### Replacing the outliers with the median"
   ]
  },
  {
   "cell_type": "code",
   "execution_count": 5,
   "metadata": {},
   "outputs": [
    {
     "name": "stdout",
     "output_type": "stream",
     "text": [
      "Q1 = 21.13 Q2 =  44.77 Q3 =  76.85\n",
      "IQR =  55.72\n",
      "upper 160.43\n",
      "lower -62.45\n"
     ]
    },
    {
     "data": {
      "image/png": "[encoded data removed]",
      "text/plain": [
       "<Figure size 600x800 with 1 Axes>"
      ]
     },
     "metadata": {},
     "output_type": "display_data"
    }
   ],
   "source": [
    "Q1 = np.percentile(df['TX_AMOUNT'], 25)\n",
    "Q2 = np.percentile(df['TX_AMOUNT'], 50)\n",
    "Q3 = np.percentile(df['TX_AMOUNT'], 75)\n",
    "IQR = Q3 - Q1        \n",
    "print('Q1 =',Q1,'Q2 = ',Q2,'Q3 = ',Q3)\n",
    "print('IQR = ',IQR)\n",
    "\n",
    "upper_val = Q3 + (1.5 * IQR)\n",
    "print('upper', upper_val)\n",
    "lower_val = Q1 - (1.5 * IQR)\n",
    "print('lower', lower_val)\n",
    "\n",
    "df.loc[df['TX_AMOUNT'] > upper_val, 'TX_AMOUNT'] = np.median(df['TX_AMOUNT'])\n",
    "df.loc[df['TX_AMOUNT'] < lower_val, 'TX_AMOUNT'] = np.median(df['TX_AMOUNT'])\n",
    "        \n",
    "fig = plt.figure(figsize = (6,8))\n",
    "sns.boxplot(data = df,x= 'TX_AMOUNT')\n",
    "plt.xticks(rotation = 'horizontal')\n",
    "plt.show()"
   ]
  },
  {
   "attachments": {},
   "cell_type": "markdown",
   "metadata": {},
   "source": [
    "## Feature Selection"
   ]
  },
  {
   "cell_type": "code",
   "execution_count": 6,
   "metadata": {},
   "outputs": [],
   "source": [
    "features = ['TRANSACTION_ID', 'CUSTOMER_ID', 'TERMINAL_ID', 'dayofweek', 'day', 'hour', 'month', 'x_customer_id', 'y_customer_id', 'nb_terminals',\n",
    "            'mean_amount', 'std_amount', 'mean_nb_tx_per_day', 'TX_AMOUNT']\n",
    "target = ['TX_FRAUD']"
   ]
  },
  {
   "attachments": {},
   "cell_type": "markdown",
   "metadata": {},
   "source": [
    "## PREAPRING X and y variables"
   ]
  },
  {
   "cell_type": "code",
   "execution_count": 7,
   "metadata": {},
   "outputs": [
    {
     "name": "stdout",
     "output_type": "stream",
     "text": [
      "   TRANSACTION_ID  CUSTOMER_ID  TERMINAL_ID dayofweek  day  hour  month   \n",
      "0           59383          323          217    Sunday    1     0      8  \\\n",
      "1           59384            6          429    Sunday    1     0      8   \n",
      "\n",
      "   x_customer_id  y_customer_id  nb_terminals  mean_amount  std_amount   \n",
      "0      84.515409      38.276422            19     7.353061    3.676530  \\\n",
      "1      11.827443      63.992102            16    18.618562    9.309281   \n",
      "\n",
      "   mean_nb_tx_per_day  TX_AMOUNT  \n",
      "0            3.324124       4.60  \n",
      "1            3.778676       8.61  \n",
      "   TX_FRAUD\n",
      "0         0\n",
      "1         0\n"
     ]
    }
   ],
   "source": [
    "X = df[features]\n",
    "y = df[target]\n",
    "print(X.head(2))\n",
    "print(y.head(2))"
   ]
  },
  {
   "attachments": {},
   "cell_type": "markdown",
   "metadata": {},
   "source": [
    "## Handling Imbalance"
   ]
  },
  {
   "cell_type": "markdown",
   "metadata": {},
   "source": [
    "### SMOTE"
   ]
  },
  {
   "cell_type": "code",
   "execution_count": 8,
   "metadata": {},
   "outputs": [],
   "source": [
    "from imblearn.over_sampling import SMOTENC"
   ]
  },
  {
   "cell_type": "code",
   "execution_count": 9,
   "metadata": {},
   "outputs": [
    {
     "data": {
      "text/plain": [
       "((569298, 14), (569298, 1))"
      ]
     },
     "execution_count": 9,
     "metadata": {},
     "output_type": "execute_result"
    }
   ],
   "source": [
    "n_cat_index = np.array([3])\n",
    "smote = SMOTENC(categorical_features=n_cat_index, random_state=42, n_jobs=True)\n",
    "X_n, y_n = smote.fit_resample(X,y)\n",
    "X_n.shape, y_n.shape"
   ]
  },
  {
   "cell_type": "code",
   "execution_count": 10,
   "metadata": {},
   "outputs": [
    {
     "data": {
      "text/plain": [
       "TX_FRAUD\n",
       "0           284649\n",
       "1           284649\n",
       "Name: count, dtype: int64"
      ]
     },
     "execution_count": 10,
     "metadata": {},
     "output_type": "execute_result"
    }
   ],
   "source": [
    "y_n.value_counts()"
   ]
  },
  {
   "attachments": {},
   "cell_type": "markdown",
   "metadata": {},
   "source": [
    "## Preprocessing"
   ]
  },
  {
   "cell_type": "code",
   "execution_count": 11,
   "metadata": {},
   "outputs": [],
   "source": [
    "num_features = X.select_dtypes(exclude=\"object\").columns\n",
    "cat_features = X.select_dtypes(include=\"object\").columns\n",
    "\n",
    "from sklearn.preprocessing import OneHotEncoder, StandardScaler\n",
    "from sklearn.compose import ColumnTransformer\n",
    "\n",
    "numeric_transformer = StandardScaler()\n",
    "oh_transformer = OneHotEncoder()\n",
    "\n",
    "preprocessor = ColumnTransformer(\n",
    "    [\n",
    "        (\"OneHotEncoder\", oh_transformer, cat_features),\n",
    "         (\"StandardScaler\", numeric_transformer, num_features),        \n",
    "    ]\n",
    ")"
   ]
  },
  {
   "cell_type": "code",
   "execution_count": 12,
   "metadata": {},
   "outputs": [],
   "source": [
    "X = preprocessor.fit_transform(X)"
   ]
  },
  {
   "cell_type": "markdown",
   "metadata": {},
   "source": [
    "## Model Selection"
   ]
  },
  {
   "attachments": {},
   "cell_type": "markdown",
   "metadata": {},
   "source": [
    "### Models"
   ]
  },
  {
   "cell_type": "code",
   "execution_count": 13,
   "metadata": {},
   "outputs": [],
   "source": [
    "models = {\n",
    "    'LogisticRegression': LogisticRegression(),\n",
    "    'KNN': KNeighborsClassifier(),\n",
    "    'RandomForest': RandomForestClassifier(),\n",
    "    'DecisionTree': DecisionTreeClassifier(),\n",
    "    'XGBoost': XGBClassifier(),\n",
    "    'GradientBoosting': GradientBoostingClassifier(),\n",
    "    'SVC': SVC()\n",
    "}"
   ]
  },
  {
   "attachments": {},
   "cell_type": "markdown",
   "metadata": {},
   "source": [
    "### Metrics"
   ]
  },
  {
   "cell_type": "code",
   "execution_count": 14,
   "metadata": {},
   "outputs": [],
   "source": [
    "metrics = {\n",
    "    'precision': make_scorer(precision_score, average='weighted', zero_division=0),\n",
    "    'recall': make_scorer(recall_score, average='weighted', zero_division=0),\n",
    "    'f1': make_scorer(f1_score, average='weighted', zero_division=0),\n",
    "    'roc_auc': make_scorer(roc_auc_score, average='weighted', multi_class='ovr') \n",
    "}"
   ]
  },
  {
   "attachments": {},
   "cell_type": "markdown",
   "metadata": {},
   "source": [
    "## Create an Evaluate Function to give all metrics after model Training"
   ]
  },
  {
   "cell_type": "code",
   "execution_count": 15,
   "metadata": {},
   "outputs": [],
   "source": [
    "from sklearn.model_selection import RepeatedKFold, cross_validate\n",
    "def evaluate_model(model, X, y):\n",
    "    cv = RepeatedKFold(n_splits=5, n_repeats=3, random_state=0)\n",
    "    cv_results = cross_validate(model, X, y, cv=cv, scoring=metrics, return_estimator =True)\n",
    "    print('Model: %s' % model)\n",
    "    print('Precision: %.3f (%.3f)' % (np.mean(cv_results['test_precision']), np.std(cv_results['test_precision'])))\n",
    "    print('Recall: %.3f (%.3f)' % (np.mean(cv_results['test_recall']), np.std(cv_results['test_recall'])))\n",
    "    print('F1: %.3f (%.3f)' % (np.mean(cv_results['test_f1']), np.std(cv_results['test_f1'])))\n",
    "    print('ROC AUC: %.3f (%.3f)' % (np.mean(cv_results['test_roc_auc']), np.std(cv_results['test_roc_auc'])))\n",
    "    print('----------------------------------------\\n\\n')"
   ]
  },
  {
   "cell_type": "code",
   "execution_count": 16,
   "metadata": {},
   "outputs": [
    {
     "name": "stdout",
     "output_type": "stream",
     "text": [
      "Model: LogisticRegression()\n",
      "Precision: 0.955 (0.001)\n",
      "Recall: 0.977 (0.000)\n",
      "F1: 0.966 (0.001)\n",
      "ROC AUC: 0.500 (0.000)\n",
      "----------------------------------------\n",
      "\n",
      "\n",
      "Model: KNeighborsClassifier()\n",
      "Precision: 0.971 (0.001)\n",
      "Recall: 0.978 (0.000)\n",
      "F1: 0.972 (0.001)\n",
      "ROC AUC: 0.584 (0.006)\n",
      "----------------------------------------\n",
      "\n",
      "\n",
      "Model: RandomForestClassifier()\n",
      "Precision: 0.979 (0.001)\n",
      "Recall: 0.981 (0.001)\n",
      "F1: 0.976 (0.001)\n",
      "ROC AUC: 0.611 (0.008)\n",
      "----------------------------------------\n",
      "\n",
      "\n",
      "Model: DecisionTreeClassifier()\n",
      "Precision: 0.979 (0.001)\n",
      "Recall: 0.977 (0.001)\n",
      "F1: 0.978 (0.001)\n",
      "ROC AUC: 0.772 (0.012)\n",
      "----------------------------------------\n",
      "\n",
      "\n",
      "Model: XGBClassifier(base_score=None, booster=None, callbacks=None,\n",
      "              colsample_bylevel=None, colsample_bynode=None,\n",
      "              colsample_bytree=None, early_stopping_rounds=None,\n",
      "              enable_categorical=False, eval_metric=None, feature_types=None,\n",
      "              gamma=None, gpu_id=None, grow_policy=None, importance_type=None,\n",
      "              interaction_constraints=None, learning_rate=None, max_bin=None,\n",
      "              max_cat_threshold=None, max_cat_to_onehot=None,\n",
      "              max_delta_step=None, max_depth=None, max_leaves=None,\n",
      "              min_child_weight=None, missing=nan, monotone_constraints=None,\n",
      "              n_estimators=100, n_jobs=None, num_parallel_tree=None,\n",
      "              predictor=None, random_state=None, ...)\n",
      "Precision: 0.979 (0.001)\n",
      "Recall: 0.981 (0.001)\n",
      "F1: 0.975 (0.001)\n",
      "ROC AUC: 0.599 (0.010)\n",
      "----------------------------------------\n",
      "\n",
      "\n",
      "Model: GradientBoostingClassifier()\n",
      "Precision: 0.971 (0.003)\n",
      "Recall: 0.978 (0.000)\n",
      "F1: 0.967 (0.001)\n",
      "ROC AUC: 0.504 (0.002)\n",
      "----------------------------------------\n",
      "\n",
      "\n"
     ]
    }
   ],
   "source": [
    "for name, model in models.items():\n",
    "    evaluate_model(model, X, y)"
   ]
  },
  {
   "cell_type": "markdown",
   "metadata": {},
   "source": [
    "## Hyperparameter tuning"
   ]
  },
  {
   "cell_type": "code",
   "execution_count": null,
   "metadata": {},
   "outputs": [],
   "source": [
    "def tuning(model, X, y, params):\n",
    "    cv = RepeatedKFold(n_splits=5, n_repeats=3, random_state=0)\n",
    "    grid = GridSearchCV(model, params, cv=cv, scoring=metrics, refit='f1', return_train_score=True)\n",
    "    grid.fit(X, y)\n",
    "    print('Best score: %.3f' % grid.best_score_)\n",
    "    print('Best params: %s' % grid.best_params_)"
   ]
  },
  {
   "cell_type": "markdown",
   "metadata": {},
   "source": [
    "### Random Forest"
   ]
  },
  {
   "cell_type": "code",
   "execution_count": null,
   "metadata": {},
   "outputs": [],
   "source": [
    "## hyperparameters\n",
    "rf_params = {\n",
    "    'n_estimators': [100, 200, 300, 400, 500],\n",
    "    'max_depth': [3, 5, 7, 9, 11],\n",
    "    'max_features': ['auto', 'sqrt', 'log2'],\n",
    "    'min_samples_split': [2, 4, 6, 8, 10],\n",
    "    'min_samples_leaf': [1, 2, 4, 6, 8],\n",
    "    'class_weight': ['balanced', {0:1, 1:2}, {0:1,0:3}, {0:1, 1:4}, {0:1, 1:5}]\n",
    "}"
   ]
  },
  {
   "cell_type": "code",
   "execution_count": null,
   "metadata": {},
   "outputs": [],
   "source": [
    "tuning(models['RandomForest'], X, y, rf_params)"
   ]
  },
  {
   "attachments": {},
   "cell_type": "markdown",
   "metadata": {},
   "source": [
    "### Decision Tree"
   ]
  },
  {
   "cell_type": "code",
   "execution_count": null,
   "metadata": {},
   "outputs": [],
   "source": [
    "## hyperparameters\n",
    "dt_params = {\n",
    "    'max_depth': [3, 5, 7, 9, 11],\n",
    "    'max_features': ['auto', 'sqrt', 'log2'],\n",
    "    'min_samples_split': [2, 4, 6, 8, 10],\n",
    "    'min_samples_leaf': [1, 2, 4, 6, 8],\n",
    "    'class_weight': ['balanced', {0:1, 1:2}, {0:1,0:3}, {0:1, 1:4}, {0:1, 1:5}]\n",
    "}"
   ]
  },
  {
   "cell_type": "code",
   "execution_count": null,
   "metadata": {},
   "outputs": [],
   "source": [
    "tuning(models['DecisionTree'], X, y, dt_params)"
   ]
  }
 ],
 "metadata": {
  "kernelspec": {
   "display_name": "Python 3",
   "language": "python",
   "name": "python3"
  },
  "language_info": {
   "codemirror_mode": {
    "name": "ipython",
    "version": 3
   },
   "file_extension": ".py",
   "mimetype": "text/x-python",
   "name": "python",
   "nbconvert_exporter": "python",
   "pygments_lexer": "ipython3",
   "version": "3.8.0"
  },
  "orig_nbformat": 4
 },
 "nbformat": 4,
 "nbformat_minor": 2
}
